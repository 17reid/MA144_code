{
 "cells": [
  {
   "cell_type": "markdown",
   "metadata": {},
   "source": [
    "# MA144 Assignment 3\n",
    "##### Robert Reid\n",
    "---"
   ]
  },
  {
   "cell_type": "markdown",
   "metadata": {},
   "source": [
    "This code is based of the provided example file."
   ]
  },
  {
   "cell_type": "markdown",
   "metadata": {},
   "source": [
    "Importing libraries"
   ]
  },
  {
   "cell_type": "code",
   "execution_count": 3,
   "metadata": {},
   "outputs": [],
   "source": [
    "from scipy.integrate import tplquad\n",
    "import numpy as np"
   ]
  },
  {
   "cell_type": "markdown",
   "metadata": {},
   "source": [
    "Now integrating"
   ]
  },
  {
   "cell_type": "code",
   "execution_count": null,
   "metadata": {},
   "outputs": [
    {
     "name": "stdout",
     "output_type": "stream",
     "text": [
      "The difference is around 4.440892098500626e-16 when using numpy's pi constant, the estimate of difference is 4.0691799143434034e-14\n",
      "So Python's answer is accurate to around 16 decimal places (which could be from floating point errors with this level of precision)\n"
     ]
    }
   ],
   "source": [
    "numerical_estimate = tplquad(lambda z,r,theta: r, \n",
    "                             0, 2*np.pi, \n",
    "                             0, lambda r: 1, \n",
    "                             lambda theta,r: r**2, lambda theta,r: 3-2*r)\n",
    "\n",
    "difference = abs(numerical_estimate[0]-7*np.pi/6) # manually computed solution is 7*pi/6\n",
    "print(f\"The difference is around {difference} when using numpy's pi constant, the estimate of difference is {numerical_estimate[1]}\")\n",
    "print(f\"So Python's answer is accurate to around 15 decimal places (which could be from floating point errors with this level of precision)\")"
   ]
  }
 ],
 "metadata": {
  "kernelspec": {
   "display_name": "base",
   "language": "python",
   "name": "python3"
  },
  "language_info": {
   "codemirror_mode": {
    "name": "ipython",
    "version": 3
   },
   "file_extension": ".py",
   "mimetype": "text/x-python",
   "name": "python",
   "nbconvert_exporter": "python",
   "pygments_lexer": "ipython3",
   "version": "3.12.7"
  }
 },
 "nbformat": 4,
 "nbformat_minor": 2
}
